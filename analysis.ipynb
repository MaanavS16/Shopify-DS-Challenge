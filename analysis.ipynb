{
  "cells": [
    {
      "cell_type": "markdown",
      "metadata": {
        "id": "Otqq95FYtbHJ"
      },
      "source": [
        "# Summer 2022 Data Science Intern Challenge\n",
        "### Maanav Singh\n",
        "\n",
        "**Challenge Context:** \n",
        "On Shopify, we have exactly 100 sneaker shops, and each of these shops sells only one model of shoe. We want to do some analysis of the average order value (AOV). When we look at orders data over a 30 day window, we naively calculate an AOV of $3145.13. Given that we know these shops are selling sneakers, a relatively affordable item, something seems wrong with our analysis. \n",
        "\n"
      ]
    },
    {
      "cell_type": "code",
      "execution_count": null,
      "metadata": {
        "id": "3xRtd7bwtbHL",
        "outputId": "2126bf71-68de-4b4d-d700-a4e1f239bfdf"
      },
      "outputs": [
        {
          "data": {
            "text/html": [
              "<div>\n",
              "<style scoped>\n",
              "    .dataframe tbody tr th:only-of-type {\n",
              "        vertical-align: middle;\n",
              "    }\n",
              "\n",
              "    .dataframe tbody tr th {\n",
              "        vertical-align: top;\n",
              "    }\n",
              "\n",
              "    .dataframe thead th {\n",
              "        text-align: right;\n",
              "    }\n",
              "</style>\n",
              "<table border=\"1\" class=\"dataframe\">\n",
              "  <thead>\n",
              "    <tr style=\"text-align: right;\">\n",
              "      <th></th>\n",
              "      <th>order_id</th>\n",
              "      <th>shop_id</th>\n",
              "      <th>user_id</th>\n",
              "      <th>order_amount</th>\n",
              "      <th>total_items</th>\n",
              "      <th>payment_method</th>\n",
              "      <th>created_at</th>\n",
              "    </tr>\n",
              "  </thead>\n",
              "  <tbody>\n",
              "    <tr>\n",
              "      <th>0</th>\n",
              "      <td>1</td>\n",
              "      <td>53</td>\n",
              "      <td>746</td>\n",
              "      <td>224</td>\n",
              "      <td>2</td>\n",
              "      <td>cash</td>\n",
              "      <td>2017-03-13 12:36:56</td>\n",
              "    </tr>\n",
              "    <tr>\n",
              "      <th>1</th>\n",
              "      <td>2</td>\n",
              "      <td>92</td>\n",
              "      <td>925</td>\n",
              "      <td>90</td>\n",
              "      <td>1</td>\n",
              "      <td>cash</td>\n",
              "      <td>2017-03-03 17:38:52</td>\n",
              "    </tr>\n",
              "    <tr>\n",
              "      <th>2</th>\n",
              "      <td>3</td>\n",
              "      <td>44</td>\n",
              "      <td>861</td>\n",
              "      <td>144</td>\n",
              "      <td>1</td>\n",
              "      <td>cash</td>\n",
              "      <td>2017-03-14 4:23:56</td>\n",
              "    </tr>\n",
              "    <tr>\n",
              "      <th>3</th>\n",
              "      <td>4</td>\n",
              "      <td>18</td>\n",
              "      <td>935</td>\n",
              "      <td>156</td>\n",
              "      <td>1</td>\n",
              "      <td>credit_card</td>\n",
              "      <td>2017-03-26 12:43:37</td>\n",
              "    </tr>\n",
              "    <tr>\n",
              "      <th>4</th>\n",
              "      <td>5</td>\n",
              "      <td>18</td>\n",
              "      <td>883</td>\n",
              "      <td>156</td>\n",
              "      <td>1</td>\n",
              "      <td>credit_card</td>\n",
              "      <td>2017-03-01 4:35:11</td>\n",
              "    </tr>\n",
              "    <tr>\n",
              "      <th>5</th>\n",
              "      <td>6</td>\n",
              "      <td>58</td>\n",
              "      <td>882</td>\n",
              "      <td>138</td>\n",
              "      <td>1</td>\n",
              "      <td>credit_card</td>\n",
              "      <td>2017-03-14 15:25:01</td>\n",
              "    </tr>\n",
              "    <tr>\n",
              "      <th>6</th>\n",
              "      <td>7</td>\n",
              "      <td>87</td>\n",
              "      <td>915</td>\n",
              "      <td>149</td>\n",
              "      <td>1</td>\n",
              "      <td>cash</td>\n",
              "      <td>2017-03-01 21:37:57</td>\n",
              "    </tr>\n",
              "    <tr>\n",
              "      <th>7</th>\n",
              "      <td>8</td>\n",
              "      <td>22</td>\n",
              "      <td>761</td>\n",
              "      <td>292</td>\n",
              "      <td>2</td>\n",
              "      <td>cash</td>\n",
              "      <td>2017-03-08 2:05:38</td>\n",
              "    </tr>\n",
              "    <tr>\n",
              "      <th>8</th>\n",
              "      <td>9</td>\n",
              "      <td>64</td>\n",
              "      <td>914</td>\n",
              "      <td>266</td>\n",
              "      <td>2</td>\n",
              "      <td>debit</td>\n",
              "      <td>2017-03-17 20:56:50</td>\n",
              "    </tr>\n",
              "    <tr>\n",
              "      <th>9</th>\n",
              "      <td>10</td>\n",
              "      <td>52</td>\n",
              "      <td>788</td>\n",
              "      <td>146</td>\n",
              "      <td>1</td>\n",
              "      <td>credit_card</td>\n",
              "      <td>2017-03-30 21:08:26</td>\n",
              "    </tr>\n",
              "  </tbody>\n",
              "</table>\n",
              "</div>"
            ],
            "text/plain": [
              "   order_id  shop_id  user_id  order_amount  total_items payment_method  \\\n",
              "0         1       53      746           224            2           cash   \n",
              "1         2       92      925            90            1           cash   \n",
              "2         3       44      861           144            1           cash   \n",
              "3         4       18      935           156            1    credit_card   \n",
              "4         5       18      883           156            1    credit_card   \n",
              "5         6       58      882           138            1    credit_card   \n",
              "6         7       87      915           149            1           cash   \n",
              "7         8       22      761           292            2           cash   \n",
              "8         9       64      914           266            2          debit   \n",
              "9        10       52      788           146            1    credit_card   \n",
              "\n",
              "            created_at  \n",
              "0  2017-03-13 12:36:56  \n",
              "1  2017-03-03 17:38:52  \n",
              "2   2017-03-14 4:23:56  \n",
              "3  2017-03-26 12:43:37  \n",
              "4   2017-03-01 4:35:11  \n",
              "5  2017-03-14 15:25:01  \n",
              "6  2017-03-01 21:37:57  \n",
              "7   2017-03-08 2:05:38  \n",
              "8  2017-03-17 20:56:50  \n",
              "9  2017-03-30 21:08:26  "
            ]
          },
          "execution_count": 1,
          "metadata": {},
          "output_type": "execute_result"
        }
      ],
      "source": [
        "import pandas as pd\n",
        "\n",
        "# load dataset into pandas dataframe\n",
        "challenge_df = pd.read_csv('./2019 Winter Data Science Intern Challenge Data Set - Sheet1.csv')\n",
        "challenge_df.head(10) # show first 10 entries"
      ]
    },
    {
      "cell_type": "code",
      "execution_count": null,
      "metadata": {
        "id": "j7fYa8yYtbHM",
        "outputId": "ad179a34-54ee-4c8b-a0ab-081f9d10234a"
      },
      "outputs": [
        {
          "data": {
            "text/html": [
              "<div>\n",
              "<style scoped>\n",
              "    .dataframe tbody tr th:only-of-type {\n",
              "        vertical-align: middle;\n",
              "    }\n",
              "\n",
              "    .dataframe tbody tr th {\n",
              "        vertical-align: top;\n",
              "    }\n",
              "\n",
              "    .dataframe thead th {\n",
              "        text-align: right;\n",
              "    }\n",
              "</style>\n",
              "<table border=\"1\" class=\"dataframe\">\n",
              "  <thead>\n",
              "    <tr style=\"text-align: right;\">\n",
              "      <th></th>\n",
              "      <th>order_id</th>\n",
              "      <th>shop_id</th>\n",
              "      <th>user_id</th>\n",
              "      <th>order_amount</th>\n",
              "      <th>total_items</th>\n",
              "    </tr>\n",
              "  </thead>\n",
              "  <tbody>\n",
              "    <tr>\n",
              "      <th>count</th>\n",
              "      <td>5000.000000</td>\n",
              "      <td>5000.000000</td>\n",
              "      <td>5000.000000</td>\n",
              "      <td>5000.000000</td>\n",
              "      <td>5000.00000</td>\n",
              "    </tr>\n",
              "    <tr>\n",
              "      <th>mean</th>\n",
              "      <td>2500.500000</td>\n",
              "      <td>50.078800</td>\n",
              "      <td>849.092400</td>\n",
              "      <td>3145.128000</td>\n",
              "      <td>8.78720</td>\n",
              "    </tr>\n",
              "    <tr>\n",
              "      <th>std</th>\n",
              "      <td>1443.520003</td>\n",
              "      <td>29.006118</td>\n",
              "      <td>87.798982</td>\n",
              "      <td>41282.539349</td>\n",
              "      <td>116.32032</td>\n",
              "    </tr>\n",
              "    <tr>\n",
              "      <th>min</th>\n",
              "      <td>1.000000</td>\n",
              "      <td>1.000000</td>\n",
              "      <td>607.000000</td>\n",
              "      <td>90.000000</td>\n",
              "      <td>1.00000</td>\n",
              "    </tr>\n",
              "    <tr>\n",
              "      <th>25%</th>\n",
              "      <td>1250.750000</td>\n",
              "      <td>24.000000</td>\n",
              "      <td>775.000000</td>\n",
              "      <td>163.000000</td>\n",
              "      <td>1.00000</td>\n",
              "    </tr>\n",
              "    <tr>\n",
              "      <th>50%</th>\n",
              "      <td>2500.500000</td>\n",
              "      <td>50.000000</td>\n",
              "      <td>849.000000</td>\n",
              "      <td>284.000000</td>\n",
              "      <td>2.00000</td>\n",
              "    </tr>\n",
              "    <tr>\n",
              "      <th>75%</th>\n",
              "      <td>3750.250000</td>\n",
              "      <td>75.000000</td>\n",
              "      <td>925.000000</td>\n",
              "      <td>390.000000</td>\n",
              "      <td>3.00000</td>\n",
              "    </tr>\n",
              "    <tr>\n",
              "      <th>max</th>\n",
              "      <td>5000.000000</td>\n",
              "      <td>100.000000</td>\n",
              "      <td>999.000000</td>\n",
              "      <td>704000.000000</td>\n",
              "      <td>2000.00000</td>\n",
              "    </tr>\n",
              "  </tbody>\n",
              "</table>\n",
              "</div>"
            ],
            "text/plain": [
              "          order_id      shop_id      user_id   order_amount  total_items\n",
              "count  5000.000000  5000.000000  5000.000000    5000.000000   5000.00000\n",
              "mean   2500.500000    50.078800   849.092400    3145.128000      8.78720\n",
              "std    1443.520003    29.006118    87.798982   41282.539349    116.32032\n",
              "min       1.000000     1.000000   607.000000      90.000000      1.00000\n",
              "25%    1250.750000    24.000000   775.000000     163.000000      1.00000\n",
              "50%    2500.500000    50.000000   849.000000     284.000000      2.00000\n",
              "75%    3750.250000    75.000000   925.000000     390.000000      3.00000\n",
              "max    5000.000000   100.000000   999.000000  704000.000000   2000.00000"
            ]
          },
          "execution_count": 2,
          "metadata": {},
          "output_type": "execute_result"
        }
      ],
      "source": [
        "# show DF summary\n",
        "challenge_df.describe()"
      ]
    },
    {
      "cell_type": "code",
      "execution_count": null,
      "metadata": {
        "id": "agUb70QVtbHM",
        "outputId": "f8d9128b-01b0-477b-c7f0-5612e4172595"
      },
      "outputs": [
        {
          "data": {
            "text/plain": [
              "<AxesSubplot:>"
            ]
          },
          "execution_count": 3,
          "metadata": {},
          "output_type": "execute_result"
        },
        {
          "data": {
            "image/png": "[encoded data removed]",
            "text/plain": [
              "<Figure size 432x288 with 1 Axes>"
            ]
          },
          "metadata": {},
          "output_type": "display_data"
        }
      ],
      "source": [
        "import seaborn as sns\n",
        "import matplotlib.pyplot as plt\n",
        "\n",
        "sns.set_theme(style=\"whitegrid\")\n",
        "\n",
        "# Let's visualize the order_amount and total_item distributions\n",
        "# A boxplot should work well\n",
        "ax = sns.boxplot(data=challenge_df['order_amount'], orient=\"h\", palette=\"Set2\")\n",
        "ax\n"
      ]
    },
    {
      "cell_type": "markdown",
      "metadata": {
        "id": "J5Empu-ZtbHN"
      },
      "source": [
        "Well, this first attempt at visualizing the data didn't go too well. \n",
        "\n",
        "This is because there exists a few very large outliers. Making the distinction between all of the lower quartiles very difficult.\n",
        "\n",
        "**Let's try fixing this by ommiting some large outliers.** *i.e values greater than the IQR * 1.5*"
      ]
    },
    {
      "cell_type": "markdown",
      "metadata": {
        "id": "WQ9U9io6tbHN"
      },
      "source": [
        "Now that we've loaded in the csv. A few key features stand out:\n",
        "- There are 5000 total items\n",
        "- The mean order amount is $3145.13! (AOV)\n",
        "- The max order amount is $704,000! A big outlier which would pull a measure of central tendancy like the mean\n",
        "- Each order has an atribute: \"total_items\" -- which maxes out at 2,000. Some shoe orders are large in quantity\n",
        "\n",
        "These observations shed some light on the initial assumptions of the prompt.\n",
        "\n",
        "**The prompt assumes that the $3145.13 (AOV) is the average shoe price; rather, the AOV reflects the average shoe order price** -- which is greatly inflated due to outlier orders containing up to 2000 shoes.\n",
        "\n",
        "\n",
        "\n"
      ]
    },
    {
      "cell_type": "code",
      "execution_count": null,
      "metadata": {
        "id": "VNfoSAXatbHN",
        "outputId": "1aa7c485-4bde-4c13-e8d9-7434b4919e64"
      },
      "outputs": [
        {
          "data": {
            "text/plain": [
              "<AxesSubplot:title={'center':'Order Price Histogram'}, xlabel='order_amount', ylabel='Count'>"
            ]
          },
          "execution_count": 15,
          "metadata": {},
          "output_type": "execute_result"
        },
        {
          "data": {
            "image/png": "[encoded data removed]",
            "text/plain": [
              "<Figure size 1440x576 with 2 Axes>"
            ]
          },
          "metadata": {},
          "output_type": "display_data"
        }
      ],
      "source": [
        "fig, axs = plt.subplots(ncols=2)\n",
        "fig.set_size_inches(20, 8)\n",
        "\n",
        "axs[0].set_title(\"Order Price Boxplot\", size=15)\n",
        "axs[1].set_title(\"Order Price Histogram\", size=15)\n",
        "\n",
        "interquartile_range = (challenge_df['order_amount'].quantile(.75) - challenge_df['order_amount'].quantile(.25)) # Q3 - Q1\n",
        "median = challenge_df['order_amount'].quantile(.5) # Q2\n",
        "\n",
        "# Outlier rule upper bound\n",
        "outlier_bound = median + interquartile_range*1.5 \n",
        "\n",
        "# filter DF with rule\n",
        "outliers_removed_df = challenge_df[challenge_df['order_amount'] <= outlier_bound]\n",
        "\n",
        "# create new boxplot and histogram\n",
        "sns.boxplot(data=outliers_removed_df, x='order_amount', orient=\"h\", palette=\"Set2\", ax=axs[0])\n",
        "sns.histplot(data=outliers_removed_df, x='order_amount', kde=True, ax=axs[1])\n"
      ]
    },
    {
      "cell_type": "markdown",
      "metadata": {
        "id": "QHCVJ9_-tbHO"
      },
      "source": [
        "*Ok, well if we want a better idea of the cost per shoe let's compute 2 useful metrics:*\n",
        "1) The average shoe cost -- the pure average shoe cost\n",
        "2) The average order shoe cost -- This metric averages the average shoe cost each order regardless of order size\n",
        "\n",
        "**Advantages of average shoe cost:**\n",
        "- True average shoe cost\n",
        "- Good for estimating revenue and predicing future income\n",
        "\n",
        "**Advantages of average order shoe cost:**\n",
        "- Prevents large orders from overly-skewing the results (Our distribution is right-skewed)\n",
        "\n",
        "\n",
        "Between these two metrics. I've elected to go with the average shoe cost since it seems to be what the original analyst envisioned as well as its potential for predictive modeling.\n",
        "\n",
        "Steps to compute:\n",
        "1) Sum order_amount column\n",
        "2) Sum total_items column\n",
        "3) Divide the order amount sum by the total item sum"
      ]
    },
    {
      "cell_type": "code",
      "execution_count": null,
      "metadata": {
        "id": "CSXKu5getbHO",
        "outputId": "3281c145-efd5-4716-8564-c84f36784be8"
      },
      "outputs": [
        {
          "name": "stdout",
          "output_type": "stream",
          "text": [
            "Average Shoe Cost: $357.92\n"
          ]
        }
      ],
      "source": [
        "order_amount_sum = challenge_df['order_amount'].sum()\n",
        "total_items_sum = challenge_df['total_items'].sum()\n",
        "\n",
        "average_shoe_cost = order_amount_sum / total_items_sum\n",
        "print(\"Average Shoe Cost: ${:,.2f}\".format(average_shoe_cost))"
      ]
    },
    {
      "cell_type": "markdown",
      "metadata": {
        "id": "b-mGhYtKtbHO"
      },
      "source": [
        "##### Metric: Average Shoe Cost\n",
        "**Average Shoe Cost: $357.92**\n",
        "\n",
        "The number seems far more realistic for the average shoe price in the shopify store and will likely accurately reflect shoe prices from the greater population of shoe prices under the same market conditions."
      ]
    }
  ],
  "metadata": {
    "interpreter": {
      "hash": "1baa965d5efe3ac65b79dfc60c0d706280b1da80fedb7760faf2759126c4f253"
    },
    "kernelspec": {
      "display_name": "Python 3.8.9 64-bit",
      "language": "python",
      "name": "python3"
    },
    "language_info": {
      "codemirror_mode": {
        "name": "ipython",
        "version": 3
      },
      "file_extension": ".py",
      "mimetype": "text/x-python",
      "name": "python",
      "nbconvert_exporter": "python",
      "pygments_lexer": "ipython3",
      "version": "3.8.9"
    },
    "orig_nbformat": 4,
    "colab": {
      "name": "analysis.ipynb",
      "provenance": []
    }
  },
  "nbformat": 4,
  "nbformat_minor": 0
}